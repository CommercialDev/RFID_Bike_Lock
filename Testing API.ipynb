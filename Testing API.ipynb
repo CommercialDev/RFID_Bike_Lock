{
 "cells": [
  {
   "cell_type": "code",
   "execution_count": 20,
   "metadata": {
    "collapsed": false
   },
   "outputs": [],
   "source": [
    "import requests\n",
    "import os\n",
    "api_key = os.environ['RFID_APP_KEY']\n",
    "auth_headers = {'X-ZUMO-APPLICATION': os.environ['RFID_APP_KEY']}"
   ]
  },
  {
   "cell_type": "code",
   "execution_count": 3,
   "metadata": {
    "collapsed": false
   },
   "outputs": [],
   "source": [
    "list_of_users = requests.get('https://gwsmobileservice.azure-mobile.net/api/getusers' , headers={'X-ZUMO-APPLICATION': api_key })"
   ]
  },
  {
   "cell_type": "code",
   "execution_count": 4,
   "metadata": {
    "collapsed": false,
    "scrolled": true
   },
   "outputs": [
    {
     "name": "stdout",
     "output_type": "stream",
     "text": [
      "<Response [200]>\n"
     ]
    },
    {
     "data": {
      "text/plain": [
       "[{'FirstName': 'Eric',\n",
       "  'LastName': 'Cartman',\n",
       "  'RFId': 12345,\n",
       "  'Status': 'ACTIVE',\n",
       "  '__deleted': False,\n",
       "  'id': 1},\n",
       " {'FirstName': 'Stan',\n",
       "  'LastName': 'Marsh',\n",
       "  'RFId': 12346,\n",
       "  'Status': 'ACTIVE',\n",
       "  '__deleted': False,\n",
       "  'id': 2},\n",
       " {'FirstName': 'Kyle',\n",
       "  'LastName': 'BRoflovski',\n",
       "  'RFId': 12347,\n",
       "  'Status': 'ACTIVE',\n",
       "  '__deleted': False,\n",
       "  'id': 3},\n",
       " {'FirstName': 'Kenny',\n",
       "  'LastName': 'McCormick',\n",
       "  'RFId': 12348,\n",
       "  'Status': 'ACTIVE',\n",
       "  '__deleted': False,\n",
       "  'id': 4},\n",
       " {'FirstName': 'Butters',\n",
       "  'LastName': 'Stoch',\n",
       "  'RFId': 12349,\n",
       "  'Status': 'ACTIVE',\n",
       "  '__deleted': False,\n",
       "  'id': 5},\n",
       " {'FirstName': 'Pip',\n",
       "  'LastName': 'Pirrup',\n",
       "  'RFId': 12350,\n",
       "  'Status': 'INACTIVE',\n",
       "  '__deleted': False,\n",
       "  'id': 6},\n",
       " {'FirstName': 'Alex',\n",
       "  'LastName': 'Glick',\n",
       "  'RFId': 12351,\n",
       "  'Status': 'INACTIVE',\n",
       "  '__deleted': False,\n",
       "  'id': 7},\n",
       " {'FirstName': 'Chris',\n",
       "  'LastName': 'Donnely',\n",
       "  'RFId': 12352,\n",
       "  'Status': 'INACTIVE',\n",
       "  '__deleted': False,\n",
       "  'id': 8},\n",
       " {'FirstName': 'Clyde',\n",
       "  'LastName': 'Donovan',\n",
       "  'RFId': 12353,\n",
       "  'Status': 'ACTIVE',\n",
       "  '__deleted': False,\n",
       "  'id': 9}]"
      ]
     },
     "execution_count": 4,
     "metadata": {},
     "output_type": "execute_result"
    }
   ],
   "source": [
    "print(list_of_users)\n",
    "list_of_users.json()"
   ]
  },
  {
   "cell_type": "code",
   "execution_count": 14,
   "metadata": {
    "collapsed": false
   },
   "outputs": [],
   "source": [
    "ind_user = requests.get('http://gwsmobileservice.azure-mobile.net/api/getuserinfo?rfid=12350' \n",
    "                        , headers={'X-ZUMO-APPLICATION': api_key })"
   ]
  },
  {
   "cell_type": "code",
   "execution_count": 15,
   "metadata": {
    "collapsed": false
   },
   "outputs": [
    {
     "data": {
      "text/plain": [
       "<Response [200]>"
      ]
     },
     "execution_count": 15,
     "metadata": {},
     "output_type": "execute_result"
    }
   ],
   "source": [
    "ind_user"
   ]
  },
  {
   "cell_type": "code",
   "execution_count": 18,
   "metadata": {
    "collapsed": false
   },
   "outputs": [
    {
     "data": {
      "text/plain": [
       "'Pip'"
      ]
     },
     "execution_count": 18,
     "metadata": {},
     "output_type": "execute_result"
    }
   ],
   "source": [
    "ind_user.json()[0]['FirstName']"
   ]
  },
  {
   "cell_type": "code",
   "execution_count": 25,
   "metadata": {
    "collapsed": true
   },
   "outputs": [],
   "source": [
    "bikes = requests.get('http://gwsportal.azurewebsites.net/api/bikelogsapi')"
   ]
  },
  {
   "cell_type": "code",
   "execution_count": 28,
   "metadata": {
    "collapsed": true
   },
   "outputs": [],
   "source": [
    "from tkinter import *\n",
    "import time\n",
    "import subprocess\n",
    "import re\n",
    "auth_headers = {'X-ZUMO-APPLICATION': os.environ['RFID_APP_KEY']}"
   ]
  },
  {
   "cell_type": "code",
   "execution_count": 27,
   "metadata": {
    "collapsed": false
   },
   "outputs": [
    {
     "name": "stdout",
     "output_type": "stream",
     "text": [
      "This is Bike 1\n",
      "Checking out bike 1\n",
      "12353\n",
      "Authenticated\n",
      "Open the Lock\n"
     ]
    },
    {
     "ename": "TclError",
     "evalue": "can't invoke \"destroy\" command:  application has been destroyed",
     "output_type": "error",
     "traceback": [
      "\u001b[0;31m---------------------------------------------------------------------------\u001b[0m",
      "\u001b[0;31mTclError\u001b[0m                                  Traceback (most recent call last)",
      "\u001b[0;32m<ipython-input-27-34e4aaaf5cdd>\u001b[0m in \u001b[0;36m<module>\u001b[0;34m()\u001b[0m\n\u001b[1;32m     56\u001b[0m \u001b[0mapp\u001b[0m \u001b[0;34m=\u001b[0m \u001b[0mApplication\u001b[0m\u001b[0;34m(\u001b[0m\u001b[0mmaster\u001b[0m\u001b[0;34m=\u001b[0m\u001b[0mroot\u001b[0m\u001b[0;34m)\u001b[0m\u001b[0;34m\u001b[0m\u001b[0m\n\u001b[1;32m     57\u001b[0m \u001b[0mapp\u001b[0m\u001b[0;34m.\u001b[0m\u001b[0mmainloop\u001b[0m\u001b[0;34m(\u001b[0m\u001b[0;34m)\u001b[0m\u001b[0;34m\u001b[0m\u001b[0m\n\u001b[0;32m---> 58\u001b[0;31m \u001b[0mroot\u001b[0m\u001b[0;34m.\u001b[0m\u001b[0mdestroy\u001b[0m\u001b[0;34m(\u001b[0m\u001b[0;34m)\u001b[0m\u001b[0;34m\u001b[0m\u001b[0m\n\u001b[0m",
      "\u001b[0;32m/usr/local/Cellar/python3/3.4.3/Frameworks/Python.framework/Versions/3.4/lib/python3.4/tkinter/__init__.py\u001b[0m in \u001b[0;36mdestroy\u001b[0;34m(self)\u001b[0m\n\u001b[1;32m   1891\u001b[0m         end the application of this Tcl interpreter.\"\"\"\n\u001b[1;32m   1892\u001b[0m         \u001b[0;32mfor\u001b[0m \u001b[0mc\u001b[0m \u001b[0;32min\u001b[0m \u001b[0mlist\u001b[0m\u001b[0;34m(\u001b[0m\u001b[0mself\u001b[0m\u001b[0;34m.\u001b[0m\u001b[0mchildren\u001b[0m\u001b[0;34m.\u001b[0m\u001b[0mvalues\u001b[0m\u001b[0;34m(\u001b[0m\u001b[0;34m)\u001b[0m\u001b[0;34m)\u001b[0m\u001b[0;34m:\u001b[0m \u001b[0mc\u001b[0m\u001b[0;34m.\u001b[0m\u001b[0mdestroy\u001b[0m\u001b[0;34m(\u001b[0m\u001b[0;34m)\u001b[0m\u001b[0;34m\u001b[0m\u001b[0m\n\u001b[0;32m-> 1893\u001b[0;31m         \u001b[0mself\u001b[0m\u001b[0;34m.\u001b[0m\u001b[0mtk\u001b[0m\u001b[0;34m.\u001b[0m\u001b[0mcall\u001b[0m\u001b[0;34m(\u001b[0m\u001b[0;34m'destroy'\u001b[0m\u001b[0;34m,\u001b[0m \u001b[0mself\u001b[0m\u001b[0;34m.\u001b[0m\u001b[0m_w\u001b[0m\u001b[0;34m)\u001b[0m\u001b[0;34m\u001b[0m\u001b[0m\n\u001b[0m\u001b[1;32m   1894\u001b[0m         \u001b[0mMisc\u001b[0m\u001b[0;34m.\u001b[0m\u001b[0mdestroy\u001b[0m\u001b[0;34m(\u001b[0m\u001b[0mself\u001b[0m\u001b[0;34m)\u001b[0m\u001b[0;34m\u001b[0m\u001b[0m\n\u001b[1;32m   1895\u001b[0m         \u001b[0;32mglobal\u001b[0m \u001b[0m_default_root\u001b[0m\u001b[0;34m\u001b[0m\u001b[0m\n",
      "\u001b[0;31mTclError\u001b[0m: can't invoke \"destroy\" command:  application has been destroyed"
     ]
    }
   ],
   "source": [
    "class Application(Frame):\n",
    "    auth_headers = {'X-ZUMO-APPLICATION': os.environ['RFID_APP_KEY']}\n",
    "    def bike(self, bike):\n",
    "        print(\"This is Bike\", bike)\n",
    "        self.checkout = Button(self, text = \"Checkout\", command = lambda: self.checkoutbike(bike))\n",
    "        self.checkout.pack()\n",
    "        self.bike1.destroy()\n",
    "        self.bike2.destroy()\n",
    "    \n",
    "    def checkoutbike(self, bike):\n",
    "        allowed = False\n",
    "        print(\"Checking out bike\", bike)\n",
    "        self.entrythingy = Entry()\n",
    "        self.entrythingy.pack()\n",
    "        self.checkout.destroy()\n",
    "        # here is the application variable\n",
    "        self.contents = StringVar()\n",
    "        # set it to some value\n",
    "        self.contents.set(\"Scan your RFID\")\n",
    "        # tell the entry widget to watch this variable\n",
    "        self.entrythingy[\"textvariable\"] = self.contents\n",
    "\n",
    "#         p = subprocess.Popen('./test.sh', stdout=subprocess.PIPE, stderr=subprocess.PIPE)\n",
    "#         time.sleep(10)\n",
    "#         output = str(p.stdout.readline())\n",
    "        output = input()\n",
    "        code = re.findall('\\d+', output)[0]\n",
    "        auth = requests.get('http://gwsmobileservice.azure-mobile.net/api/getuserinfo?rfid='+code, headers=auth_headers)\n",
    "        authjson = auth.json()[0]\n",
    "        if 'FirstName' in authjson:\n",
    "            allowed = True\n",
    "            print(\"Authenticated\")\n",
    "        else:\n",
    "            print(\"Not Authenticated\")\n",
    "            allowed = False\n",
    "        if allowed:\n",
    "            print(\"Open the Lock\")\n",
    "            root.destroy()\n",
    "    \n",
    "    def createWidgets(self):\n",
    "        self.bike1 = Button(self, text = \"Bike 1\", command = lambda: self.bike(1))\n",
    "\n",
    "        self.bike1.pack({\"side\": \"left\"})\n",
    "        \n",
    "        self.bike2 = Button(self, text = \"Bike 2\", command = lambda: self.bike(2))\n",
    "\n",
    "        self.bike2.pack({\"side\": \"left\"})\n",
    "\n",
    "\n",
    "    def __init__(self, master=None):\n",
    "        Frame.__init__(self, master)\n",
    "        self.pack()\n",
    "        self.createWidgets()\n",
    "\n",
    "root = Tk()\n",
    "app = Application(master=root)\n",
    "app.mainloop()\n",
    "root.destroy()"
   ]
  },
  {
   "cell_type": "code",
   "execution_count": null,
   "metadata": {
    "collapsed": true
   },
   "outputs": [],
   "source": [
    "print(auth)"
   ]
  },
  {
   "cell_type": "code",
   "execution_count": 53,
   "metadata": {
    "collapsed": false
   },
   "outputs": [
    {
     "name": "stdout",
     "output_type": "stream",
     "text": [
      "Alex\n",
      "Authenticated\n"
     ]
    }
   ],
   "source": [
    "code = \"12351\"\n",
    "auth = requests.get('http://gwsportal.azurewebsites.net/api/usersapi?id='+code)\n",
    "if 'FirstName' in auth.json():\n",
    "    print(auth.json()['FirstName'])\n",
    "    allowed = True\n",
    "    print(\"Authenticated\")\n",
    "else:\n",
    "    print(\"Not Authenticated\")\n",
    "    allowed = False\n",
    "if allowed:\n",
    "    # Opens lock\n",
    "    # Puts new bike log\n",
    "    pass"
   ]
  },
  {
   "cell_type": "code",
   "execution_count": 4,
   "metadata": {
    "collapsed": false
   },
   "outputs": [],
   "source": [
    "test = requests.get('https://gwsmobileservice.azure-mobile.net/api/photocount', headers={'X-ZUMO-APPLICATION': api_key })"
   ]
  },
  {
   "cell_type": "code",
   "execution_count": 5,
   "metadata": {
    "collapsed": false
   },
   "outputs": [
    {
     "data": {
      "text/plain": [
       "{'code': 401, 'error': 'Error: Unauthorized'}"
      ]
     },
     "execution_count": 5,
     "metadata": {},
     "output_type": "execute_result"
    }
   ],
   "source": [
    "test.json()"
   ]
  },
  {
   "cell_type": "markdown",
   "metadata": {
    "collapsed": true
   },
   "source": [
    "Bike Lock Table Names\n",
    "Users - Represents GWS employees\n",
    "                id                            int  Primary Key\n",
    "                RFId                       int\n",
    "                FristName           nvarchar(max)\n",
    "                LastName            nvarchar(max)\n",
    "                Status                   nvarchar(max)\n",
    "               \n",
    "Bikes - List of bikes available\n",
    "                id                            int           Primary Key\n",
    "                BikeName           nvarchar(max)\n",
    "                SerialNo               nvarchar(max)\n",
    "                Status                   nvarchar(max)\n",
    "               \n",
    "BikeLogs - Log file for activity on each bike\n",
    "                id                                            int Primary Key\n",
    "                UserId                                  int Foreign Key to User table (= id)\n",
    "                BikeId                                   int           Foreign Key to Bikes table (= id)\n",
    "                TransactionDate               datetime\n",
    "                TransactionType               nvarchar(max)\n",
    "               \n",
    "Trail Camera Table Names\n",
    "Photos - Link between Blob storage and trail camera\n",
    "                id                            int Primary Key\n",
    "                DeviceId              int           Foreign Key to TrailCams table (= id)\n",
    "                PhotoName       nvarchar(max)\n",
    "                PhotoUrl              nvarchar(max) URL generated when uploading photo to BLOB storage\n",
    "               \n",
    "Temperatures - Stores temperature uploaded periodically from camera\n",
    "                id                                            int           Primary Key\n",
    "                DeviceId                              int Foreign Key to TrailCams table (= id)\n",
    "                TransactionDate               datetime\n",
    "                Reading                                decimal(18,2)\n",
    "               \n",
    "TrailCams - List of available trail cameras\n",
    "                id                            int Primary Key\n",
    "                DeviceId              nvarchar(max)\n",
    "                Location               nvarchar(max)\n",
    " \n",
    "This URL  gives a good introduction to Azure mobile services  against a SQL Server database\n",
    "https://msdn.microsoft.com/en-us/library/azure/jj710104.aspx\n",
    " \n",
    " \n",
    "Our mobile service name is:  gwsmobileservice\n",
    "URL is:  https://gwsmobileservice.azure-mobile.net/\n",
    "Application Key is: (STORED IN ENVIORMENT VARIABLE as RFID_APP_KEY)\n",
    " \n",
    "The Application Key needs to be passed in using the X-ZUMO-APPLICATION setting in the HTTP Header.\n",
    " \n",
    "Retrieving all records in a table:\n",
    "HTTP Type: GET\n",
    "Request Header: X-ZUMO-APPLICATION = application key\n",
    "URL: https://gwsmobileservice.azure-mobile.net/tables/<table name>\n",
    " \n",
    "Example:  https://gwsmobileservice.azure-mobile.net/tables/Users\n",
    " \n",
    "Returns an array of JSON objects\n",
    " \n",
    "Retrieving a single record using primary key:\n",
    "HTTP Type: GET\n",
    "Request Header: X-ZUMO-APPLICATION = application key\n",
    "URL: https://gwsmobileservice.azure-mobile.net/tables/<table name>/<item_id>\n",
    " \n",
    "Example: https://gwsmobileservice.azure-mobile.net/tables/Users/1\n",
    " \n",
    "Returns a single JSON objects\n",
    "{\n",
    "                \"id\": 1,\n",
    "                \"RFId\": 12345,\n",
    "                \"FirstName\": \"Eric\",\n",
    "                \"LastName\": \"Cartman\",\n",
    "                \"Status\": \"ACTIVE\"\n",
    "}\n",
    " \n",
    "Inserting a new record:\n",
    "HTTP Type: POST\n",
    "Request Header: X-ZUMO-APPLICATION  = application key\n",
    "                                                                Content-Type = application/json\n",
    "URL: https://gwsmobileservice.azure-mobile.net/tables/<table name>\n",
    "Body: JSON object containing new record.\n",
    " \n",
    "Example: https://gwsmobileservice.azure-mobile.net/tables/Users\n",
    "{\n",
    "                \"RFId\": 99999,\n",
    "                \"FirstName\": \"Randy\",\n",
    "                \"LastName\": \"Marsh\",\n",
    "                \"Status\": \"ACTIVE\"\n",
    "}\n",
    " \n",
    "Returns a JSON object containing the new record.\n",
    "{\n",
    "                \"id\": 10,\n",
    "                \"RFId\": 99999,\n",
    "                \"FirstName\": \"Randy\",\n",
    "                \"LastName\": \"Marsh\",\n",
    "                \"Status\": \"ACTIVE\"\n",
    "}\n",
    " \n",
    " \n",
    "Updating an existing record:\n",
    "HTTP Type: Patch\n",
    "Request Header: X-ZUMO-APPLICATION = application key\n",
    "                                                                Content-Type = application/json\n",
    "URL: https://gwsmobileservice.azure-mobile.net/tables/<table name>/<item_id>\n",
    "Body: JSON object containing the column(s) to be updated\n",
    " \n",
    "Example: https://gwsmobileservice.azure-mobile.net/tables/Users/1\n",
    "{ \"Status\": \"INACTIVE\"}\n",
    " \n",
    "Returns JSON object representing the updated item.\n",
    "{\n",
    "                \"id\": 1,\n",
    "                \"RFId\": 12345,\n",
    "                \"FirstName\": \"Eric\",\n",
    "                \"LastName\": \"Cartman\",\n",
    "                \"Status\": \"INACTIVE\"\n",
    "}\n",
    " \n",
    "If you want to look up a User based on the RFID, then you need to use the $filter parameter.\n",
    "HTTP Type: GET\n",
    "Request Header: X-ZUMO-APPLICATION = application key\n",
    "URL: https://gwsmobileservice.azure-mobile.net/tables/<table name>?$filter=(<filter>)\n",
    " \n",
    "Example:  To get the record with an RFID equal to 12345, you would pass in a filter of “RFID eq 12345”.  Keep in mind that the filter must be URL encoded. Meaning that you special character (space, #, *, etc.) are replaced by the ASCII equivalent.  So the URL would be:\n",
    " \n",
    "https://gwsmobileservice.azure-mobile.net/tables/Users?$filter=(RFId%20eq%2012345)\n",
    " \n",
    "I’m not sure how you encode using python.  I’m assuming there is library that will do it.  But in JavaScript you do:\n",
    " \n",
    "var URL = “https://gwsmobileservice.azure-mobile.net/tables/Users?filter=”;\n",
    "var filter = encodeURIComponent(“RFId eq 12345”);\n",
    "URL = URL + filter;\n",
    " "
   ]
  },
  {
   "cell_type": "code",
   "execution_count": null,
   "metadata": {
    "collapsed": true
   },
   "outputs": [],
   "source": []
  }
 ],
 "metadata": {
  "kernelspec": {
   "display_name": "Python 3",
   "language": "python",
   "name": "python3"
  },
  "language_info": {
   "codemirror_mode": {
    "name": "ipython",
    "version": 3
   },
   "file_extension": ".py",
   "mimetype": "text/x-python",
   "name": "python",
   "nbconvert_exporter": "python",
   "pygments_lexer": "ipython3",
   "version": "3.4.3"
  }
 },
 "nbformat": 4,
 "nbformat_minor": 0
}
