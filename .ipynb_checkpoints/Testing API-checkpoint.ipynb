{
 "cells": [
  {
   "cell_type": "markdown",
   "metadata": {},
   "source": [
    "I’ve got the first set of services created for the bike lock and trail monitor.  These are CRUD services only, but I think that’s really all we need for now.  They are published here: http://gwsportal.azurewebsites.net/api\n",
    " \n",
    "This is the flow that I think the UI should call/use these APIs:\n",
    " \n",
    "1.       User approaches the kiosk and scans their badge (api/userapi?id=<rfid>) Get the user information and let the continue if they are ACTIVE.\n",
    "\n",
    "2.       Get a list of bikes (api/bikesapi).  Use this list to display the bikes and their current status.\n",
    "\n",
    "3.       User selects a bike or bikes to use (api/bikesapi?id<Id>) This will be  PUT operation on each bike selected to update its status to OUT.\n",
    "\n",
    "4.       Log the transaction (api/bikelogsapi) This will be a POST operation to insert a new log record into the database.\n",
    "\n",
    "5.       User returns the bike(s) (api/bikesapi?id<Id>) This will be  PUT to update the status to IN.\n",
    "\n",
    "6.       Log the transaction (api/bikelogsapi) This will be a POST operation to insert a new log record into the database.\n",
    "\n",
    " \n",
    "I will type up a full API reference later and include the trail monitor stuff, but the different APIs for the bike lock are broken out as follows.  Keep in mind any PUT,POST, or DELETE operation will need authentication.  I still need to create that and will email as soon as it’s done.\n",
    " \n",
    "UsersApi\n",
    "-          Object:\n",
    "\n",
    "o   Id (This is the database ID)\n",
    "\n",
    "o   RFId (This is the badge id assigned to the user)\n",
    "\n",
    "o   First name\n",
    "\n",
    "o   Last name\n",
    "\n",
    "o   Status (ACTIVE or INACTIVE)\n",
    "\n",
    "o   Self (this is a url that points back to the object.  Really not needed in what we’re doing)\n",
    "\n",
    "-          Get all:  http://gwsportal.azurewebsites.net/usersapi\n",
    "\n",
    "o   This method returns a list (array) of Json objects of type User\n",
    "\n",
    "-          Get single: http://gwsportal.azurewebsites.net/usersapi?id=<rfid>\n",
    "\n",
    "o   This method returns a single Json object of type User\n",
    "\n",
    "-          Put: http://gwsportal.azurewebsites.net/usersapi?id=<Id>&&user=<Json object of type User>\n",
    "\n",
    "o   This method is used to update a user record in the database.  You’ll pass in the database ID and a Json object of type user\n",
    "\n",
    "-          Post: http://gwsportal.azurewebsites.net/usersapi?user=<Json object of type User>\n",
    "\n",
    "o   This method is used to insert a new user record in the database.  Pass in a Json object of type user.\n",
    "\n",
    " \n",
    "BikesApi\n",
    "-          Object:\n",
    "\n",
    "o   Id (This is the database ID)\n",
    "\n",
    "o   BikeName\n",
    "\n",
    "o   SerialNo\n",
    "\n",
    "o   Status (IN or OUT)\n",
    "\n",
    "o   Self (this is a url that points back to the object.  Really not needed in what we’re doing)\n",
    "\n",
    "-          Get all:  http://gwsportal.azurewebsites.net/bikesapi\n",
    "\n",
    "o   This method returns a list (array) of Json objects of type Bike\n",
    "\n",
    "-          Get single: http://gwsportal.azurewebsites.net/bikesapi?id=<Id>\n",
    "\n",
    "o   This method returns a single Json object of type Bike\n",
    "\n",
    "-          Put: http://gwsportal.azurewebsites.net/bikesapi?id=<Id>&&user=<Json object of type Bike>\n",
    "\n",
    "o   This method is used to update a bike record in the database.  You’ll pass in the database ID and a Json object of type Bike\n",
    "\n",
    "-          Post: http://gwsportal.azurewebsites.net/bikesapi?user=<Json object of type Bike>\n",
    "\n",
    "o   This method is used to insert a new bike record in the database.  Pass in a Json object of type Bike.\n",
    "\n",
    " \n",
    "BikeLogsApi\n",
    "-          Object:\n",
    "\n",
    "o   Id (This is the database ID)\n",
    "\n",
    "o   UserId (This is the RFID assigned to the user)\n",
    "\n",
    "o   BikeId (This is the bikes database ID)\n",
    "\n",
    "o   TransactionDate (Datetime stamp that the bike is checked in or out)\n",
    "\n",
    "o   TransactionType (IN or OUT)\n",
    "\n",
    "o   Self (this is a url that points back to the object.  Really not needed in what we’re doing)\n",
    "\n",
    "-          Get all:  http://gwsportal.azurewebsites.net/bikelogsapi\n",
    "\n",
    "o   This method returns a list (array) of Json objects of type BikeLog\n",
    "\n",
    "-          Get single: http://gwsportal.azurewebsites.net/bikelogsapi?id=<Id>\n",
    "\n",
    "o   This method returns a single Json object of type BikeLog\n",
    "\n",
    "-          Put: http://gwsportal.azurewebsites.net/bikelogsapi?id=<Id>&&user=<Json object of type BikeLog>\n",
    "\n",
    "o   This method is used to update a log record in the database.  You’ll pass in the database ID and a Json object of type BikeLog\n",
    "\n",
    "-          Post: http://gwsportal.azurewebsites.net/bikelogsapi?user=<Json object of type BikeLog>\n",
    "\n",
    "o   This method is used to insert a new log record in the database.  Pass in a Json object of type BikeLog.\n",
    "\n"
   ]
  },
  {
   "cell_type": "code",
   "execution_count": 1,
   "metadata": {
    "collapsed": true
   },
   "outputs": [],
   "source": [
    "import requests"
   ]
  },
  {
   "cell_type": "code",
   "execution_count": 4,
   "metadata": {
    "collapsed": true
   },
   "outputs": [],
   "source": [
    "list_of_users = requests.get('http://gwsportal.azurewebsites.net/usersapi/')"
   ]
  },
  {
   "cell_type": "code",
   "execution_count": 5,
   "metadata": {
    "collapsed": false
   },
   "outputs": [
    {
     "data": {
      "text/plain": [
       "<Response [404]>"
      ]
     },
     "execution_count": 5,
     "metadata": {},
     "output_type": "execute_result"
    }
   ],
   "source": [
    "list_of_users"
   ]
  },
  {
   "cell_type": "code",
   "execution_count": 6,
   "metadata": {
    "collapsed": true
   },
   "outputs": [],
   "source": [
    "ind_user = requests.get('http://gwsportal.azurewebsites.net/usersapi?id=3')"
   ]
  },
  {
   "cell_type": "code",
   "execution_count": 7,
   "metadata": {
    "collapsed": false
   },
   "outputs": [
    {
     "data": {
      "text/plain": [
       "<Response [404]>"
      ]
     },
     "execution_count": 7,
     "metadata": {},
     "output_type": "execute_result"
    }
   ],
   "source": []
  },
  {
   "cell_type": "code",
   "execution_count": 10,
   "metadata": {
    "collapsed": true
   },
   "outputs": [],
   "source": [
    "from tkinter import *"
   ]
  },
  {
   "cell_type": "code",
   "execution_count": 31,
   "metadata": {
    "collapsed": false
   },
   "outputs": [
    {
     "name": "stdout",
     "output_type": "stream",
     "text": [
      "This is Bike 2\n",
      "Checking out bike 2\n"
     ]
    },
    {
     "ename": "TclError",
     "evalue": "can't invoke \"destroy\" command:  application has been destroyed",
     "output_type": "error",
     "traceback": [
      "\u001b[0;31m---------------------------------------------------------------------------\u001b[0m",
      "\u001b[0;31mTclError\u001b[0m                                  Traceback (most recent call last)",
      "\u001b[0;32m<ipython-input-31-1f6df5e13c7e>\u001b[0m in \u001b[0;36m<module>\u001b[0;34m()\u001b[0m\n\u001b[1;32m     44\u001b[0m \u001b[0mapp\u001b[0m \u001b[0;34m=\u001b[0m \u001b[0mApplication\u001b[0m\u001b[0;34m(\u001b[0m\u001b[0mmaster\u001b[0m\u001b[0;34m=\u001b[0m\u001b[0mroot\u001b[0m\u001b[0;34m)\u001b[0m\u001b[0;34m\u001b[0m\u001b[0m\n\u001b[1;32m     45\u001b[0m \u001b[0mapp\u001b[0m\u001b[0;34m.\u001b[0m\u001b[0mmainloop\u001b[0m\u001b[0;34m(\u001b[0m\u001b[0;34m)\u001b[0m\u001b[0;34m\u001b[0m\u001b[0m\n\u001b[0;32m---> 46\u001b[0;31m \u001b[0mroot\u001b[0m\u001b[0;34m.\u001b[0m\u001b[0mdestroy\u001b[0m\u001b[0;34m(\u001b[0m\u001b[0;34m)\u001b[0m\u001b[0;34m\u001b[0m\u001b[0m\n\u001b[0m",
      "\u001b[0;32m/usr/local/Cellar/python3/3.4.3/Frameworks/Python.framework/Versions/3.4/lib/python3.4/tkinter/__init__.py\u001b[0m in \u001b[0;36mdestroy\u001b[0;34m(self)\u001b[0m\n\u001b[1;32m   1891\u001b[0m         end the application of this Tcl interpreter.\"\"\"\n\u001b[1;32m   1892\u001b[0m         \u001b[0;32mfor\u001b[0m \u001b[0mc\u001b[0m \u001b[0;32min\u001b[0m \u001b[0mlist\u001b[0m\u001b[0;34m(\u001b[0m\u001b[0mself\u001b[0m\u001b[0;34m.\u001b[0m\u001b[0mchildren\u001b[0m\u001b[0;34m.\u001b[0m\u001b[0mvalues\u001b[0m\u001b[0;34m(\u001b[0m\u001b[0;34m)\u001b[0m\u001b[0;34m)\u001b[0m\u001b[0;34m:\u001b[0m \u001b[0mc\u001b[0m\u001b[0;34m.\u001b[0m\u001b[0mdestroy\u001b[0m\u001b[0;34m(\u001b[0m\u001b[0;34m)\u001b[0m\u001b[0;34m\u001b[0m\u001b[0m\n\u001b[0;32m-> 1893\u001b[0;31m         \u001b[0mself\u001b[0m\u001b[0;34m.\u001b[0m\u001b[0mtk\u001b[0m\u001b[0;34m.\u001b[0m\u001b[0mcall\u001b[0m\u001b[0;34m(\u001b[0m\u001b[0;34m'destroy'\u001b[0m\u001b[0;34m,\u001b[0m \u001b[0mself\u001b[0m\u001b[0;34m.\u001b[0m\u001b[0m_w\u001b[0m\u001b[0;34m)\u001b[0m\u001b[0;34m\u001b[0m\u001b[0m\n\u001b[0m\u001b[1;32m   1894\u001b[0m         \u001b[0mMisc\u001b[0m\u001b[0;34m.\u001b[0m\u001b[0mdestroy\u001b[0m\u001b[0;34m(\u001b[0m\u001b[0mself\u001b[0m\u001b[0;34m)\u001b[0m\u001b[0;34m\u001b[0m\u001b[0m\n\u001b[1;32m   1895\u001b[0m         \u001b[0;32mglobal\u001b[0m \u001b[0m_default_root\u001b[0m\u001b[0;34m\u001b[0m\u001b[0m\n",
      "\u001b[0;31mTclError\u001b[0m: can't invoke \"destroy\" command:  application has been destroyed"
     ]
    }
   ],
   "source": [
    "class Application(Frame):\n",
    "    def bike(self, bike):\n",
    "        print(\"This is Bike\", bike)\n",
    "        self.checkout = Button(self, text = \"Checkout\", command = lambda: self.checkoutbike(bike))\n",
    "        self.checkout.pack()\n",
    "        self.bike1.destroy()\n",
    "        self.bike2.destroy()\n",
    "    \n",
    "    def checkoutbike(self, bike):\n",
    "        print(\"Checking out bike\", bike)\n",
    "        self.entrythingy = Entry()\n",
    "        self.entrythingy.pack()\n",
    "        # here is the application variable\n",
    "        self.contents = StringVar()\n",
    "        # set it to some value\n",
    "        self.contents.set(\"Scan your RFID\")\n",
    "        # tell the entry widget to watch this variable\n",
    "        self.entrythingy[\"textvariable\"] = self.contents\n",
    "        \n",
    "        # Once Scanned send to make API Call\n",
    "        \n",
    "        # if API Call is good\n",
    "        # Open Bike Lock\n",
    "        # Make new API Calls to save\n",
    "        \n",
    "        pass\n",
    "    \n",
    "    def createWidgets(self):\n",
    "        self.bike1 = Button(self, text = \"Bike 1\", command = lambda: self.bike(1))\n",
    "\n",
    "        self.bike1.pack({\"side\": \"left\"})\n",
    "        \n",
    "        self.bike2 = Button(self, text = \"Bike 2\", command = lambda: self.bike(2))\n",
    "\n",
    "        self.bike2.pack({\"side\": \"left\"})\n",
    "\n",
    "\n",
    "    def __init__(self, master=None):\n",
    "        Frame.__init__(self, master)\n",
    "        self.pack()\n",
    "        self.createWidgets()\n",
    "\n",
    "root = Tk()\n",
    "app = Application(master=root)\n",
    "app.mainloop()\n",
    "root.destroy()"
   ]
  },
  {
   "cell_type": "code",
   "execution_count": null,
   "metadata": {
    "collapsed": true
   },
   "outputs": [],
   "source": []
  }
 ],
 "metadata": {
  "kernelspec": {
   "display_name": "Python 3",
   "language": "python",
   "name": "python3"
  },
  "language_info": {
   "codemirror_mode": {
    "name": "ipython",
    "version": 3
   },
   "file_extension": ".py",
   "mimetype": "text/x-python",
   "name": "python",
   "nbconvert_exporter": "python",
   "pygments_lexer": "ipython3",
   "version": "3.4.3"
  }
 },
 "nbformat": 4,
 "nbformat_minor": 0
}
