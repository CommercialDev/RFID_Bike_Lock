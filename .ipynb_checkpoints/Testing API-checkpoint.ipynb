{
 "cells": [
  {
   "cell_type": "markdown",
   "metadata": {},
   "source": [
    "I’ve got the first set of services created for the bike lock and trail monitor.  These are CRUD services only, but I think that’s really all we need for now.  They are published here: http://gwsportal.azurewebsites.net/api\n",
    " \n",
    "This is the flow that I think the UI should call/use these APIs:\n",
    " \n",
    "1.       User approaches the kiosk and scans their badge (api/userapi?id=<rfid>) Get the user information and let the continue if they are ACTIVE.\n",
    "\n",
    "2.       Get a list of bikes (api/bikesapi).  Use this list to display the bikes and their current status.\n",
    "\n",
    "3.       User selects a bike or bikes to use (api/bikesapi?id<Id>) This will be  PUT operation on each bike selected to update its status to OUT.\n",
    "\n",
    "4.       Log the transaction (api/bikelogsapi) This will be a POST operation to insert a new log record into the database.\n",
    "\n",
    "5.       User returns the bike(s) (api/bikesapi?id<Id>) This will be  PUT to update the status to IN.\n",
    "\n",
    "6.       Log the transaction (api/bikelogsapi) This will be a POST operation to insert a new log record into the database.\n",
    "\n",
    " \n",
    "I will type up a full API reference later and include the trail monitor stuff, but the different APIs for the bike lock are broken out as follows.  Keep in mind any PUT,POST, or DELETE operation will need authentication.  I still need to create that and will email as soon as it’s done.\n",
    " \n",
    "UsersApi\n",
    "-          Object:\n",
    "\n",
    "o   Id (This is the database ID)\n",
    "\n",
    "o   RFId (This is the badge id assigned to the user)\n",
    "\n",
    "o   First name\n",
    "\n",
    "o   Last name\n",
    "\n",
    "o   Status (ACTIVE or INACTIVE)\n",
    "\n",
    "o   Self (this is a url that points back to the object.  Really not needed in what we’re doing)\n",
    "\n",
    "-          Get all:  http://gwsportal.azurewebsites.net/usersapi\n",
    "\n",
    "o   This method returns a list (array) of Json objects of type User\n",
    "\n",
    "-          Get single: http://gwsportal.azurewebsites.net/usersapi?id=<rfid>\n",
    "\n",
    "o   This method returns a single Json object of type User\n",
    "\n",
    "-          Put: http://gwsportal.azurewebsites.net/usersapi?id=<Id>&&user=<Json object of type User>\n",
    "\n",
    "o   This method is used to update a user record in the database.  You’ll pass in the database ID and a Json object of type user\n",
    "\n",
    "-          Post: http://gwsportal.azurewebsites.net/usersapi?user=<Json object of type User>\n",
    "\n",
    "o   This method is used to insert a new user record in the database.  Pass in a Json object of type user.\n",
    "\n",
    " \n",
    "BikesApi\n",
    "-          Object:\n",
    "\n",
    "o   Id (This is the database ID)\n",
    "\n",
    "o   BikeName\n",
    "\n",
    "o   SerialNo\n",
    "\n",
    "o   Status (IN or OUT)\n",
    "\n",
    "o   Self (this is a url that points back to the object.  Really not needed in what we’re doing)\n",
    "\n",
    "-          Get all:  http://gwsportal.azurewebsites.net/bikesapi\n",
    "\n",
    "o   This method returns a list (array) of Json objects of type Bike\n",
    "\n",
    "-          Get single: http://gwsportal.azurewebsites.net/bikesapi?id=<Id>\n",
    "\n",
    "o   This method returns a single Json object of type Bike\n",
    "\n",
    "-          Put: http://gwsportal.azurewebsites.net/bikesapi?id=<Id>&&user=<Json object of type Bike>\n",
    "\n",
    "o   This method is used to update a bike record in the database.  You’ll pass in the database ID and a Json object of type Bike\n",
    "\n",
    "-          Post: http://gwsportal.azurewebsites.net/bikesapi?user=<Json object of type Bike>\n",
    "\n",
    "o   This method is used to insert a new bike record in the database.  Pass in a Json object of type Bike.\n",
    "\n",
    " \n",
    "BikeLogsApi\n",
    "-          Object:\n",
    "\n",
    "o   Id (This is the database ID)\n",
    "\n",
    "o   UserId (This is the RFID assigned to the user)\n",
    "\n",
    "o   BikeId (This is the bikes database ID)\n",
    "\n",
    "o   TransactionDate (Datetime stamp that the bike is checked in or out)\n",
    "\n",
    "o   TransactionType (IN or OUT)\n",
    "\n",
    "o   Self (this is a url that points back to the object.  Really not needed in what we’re doing)\n",
    "\n",
    "-          Get all:  http://gwsportal.azurewebsites.net/bikelogsapi\n",
    "\n",
    "o   This method returns a list (array) of Json objects of type BikeLog\n",
    "\n",
    "-          Get single: http://gwsportal.azurewebsites.net/bikelogsapi?id=<Id>\n",
    "\n",
    "o   This method returns a single Json object of type BikeLog\n",
    "\n",
    "-          Put: http://gwsportal.azurewebsites.net/bikelogsapi?id=<Id>&&user=<Json object of type BikeLog>\n",
    "\n",
    "o   This method is used to update a log record in the database.  You’ll pass in the database ID and a Json object of type BikeLog\n",
    "\n",
    "-          Post: http://gwsportal.azurewebsites.net/bikelogsapi?user=<Json object of type BikeLog>\n",
    "\n",
    "o   This method is used to insert a new log record in the database.  Pass in a Json object of type BikeLog.\n",
    "\n"
   ]
  },
  {
   "cell_type": "code",
   "execution_count": 28,
   "metadata": {
    "collapsed": true
   },
   "outputs": [],
   "source": [
    "import requests"
   ]
  },
  {
   "cell_type": "code",
   "execution_count": 2,
   "metadata": {
    "collapsed": true
   },
   "outputs": [],
   "source": [
    "list_of_users = requests.get('http://gwsportal.azurewebsites.net/api/usersapi/')"
   ]
  },
  {
   "cell_type": "code",
   "execution_count": 4,
   "metadata": {
    "collapsed": false,
    "scrolled": true
   },
   "outputs": [
    {
     "name": "stdout",
     "output_type": "stream",
     "text": [
      "<Response [200]>\n"
     ]
    },
    {
     "data": {
      "text/plain": [
       "[{'FirstName': 'Eric',\n",
       "  'Id': 1,\n",
       "  'LastName': 'Cartman',\n",
       "  'RFId': 12345,\n",
       "  'Self': 'api/users/1',\n",
       "  'Status': 'ACTIVE'},\n",
       " {'FirstName': 'Stan',\n",
       "  'Id': 2,\n",
       "  'LastName': 'Marsh',\n",
       "  'RFId': 12346,\n",
       "  'Self': 'api/users/2',\n",
       "  'Status': 'ACTIVE'},\n",
       " {'FirstName': 'Kyle',\n",
       "  'Id': 3,\n",
       "  'LastName': 'BRoflovski',\n",
       "  'RFId': 12347,\n",
       "  'Self': 'api/users/3',\n",
       "  'Status': 'ACTIVE'},\n",
       " {'FirstName': 'Kenny',\n",
       "  'Id': 4,\n",
       "  'LastName': 'McCormick',\n",
       "  'RFId': 12348,\n",
       "  'Self': 'api/users/4',\n",
       "  'Status': 'ACTIVE'},\n",
       " {'FirstName': 'Butters',\n",
       "  'Id': 5,\n",
       "  'LastName': 'Stoch',\n",
       "  'RFId': 12349,\n",
       "  'Self': 'api/users/5',\n",
       "  'Status': 'ACTIVE'},\n",
       " {'FirstName': 'Pip',\n",
       "  'Id': 6,\n",
       "  'LastName': 'Pirrup',\n",
       "  'RFId': 12350,\n",
       "  'Self': 'api/users/6',\n",
       "  'Status': 'INACTIVE'},\n",
       " {'FirstName': 'Alex',\n",
       "  'Id': 7,\n",
       "  'LastName': 'Glick',\n",
       "  'RFId': 12351,\n",
       "  'Self': 'api/users/7',\n",
       "  'Status': 'INACTIVE'},\n",
       " {'FirstName': 'Chris',\n",
       "  'Id': 8,\n",
       "  'LastName': 'Donnely',\n",
       "  'RFId': 12352,\n",
       "  'Self': 'api/users/8',\n",
       "  'Status': 'INACTIVE'}]"
      ]
     },
     "execution_count": 4,
     "metadata": {},
     "output_type": "execute_result"
    }
   ],
   "source": [
    "print(list_of_users)\n",
    "list_of_users.json()"
   ]
  },
  {
   "cell_type": "code",
   "execution_count": 40,
   "metadata": {
    "collapsed": false
   },
   "outputs": [],
   "source": [
    "ind_user = requests.get('http://gwsportal.azurewebsites.net/api/usersapi?id=12351')"
   ]
  },
  {
   "cell_type": "code",
   "execution_count": 41,
   "metadata": {
    "collapsed": false
   },
   "outputs": [
    {
     "data": {
      "text/plain": [
       "'Alex'"
      ]
     },
     "execution_count": 41,
     "metadata": {},
     "output_type": "execute_result"
    }
   ],
   "source": [
    "ind_user.json()['FirstName']"
   ]
  },
  {
   "cell_type": "code",
   "execution_count": 25,
   "metadata": {
    "collapsed": true
   },
   "outputs": [],
   "source": [
    "bikes = requests.get('http://gwsportal.azurewebsites.net/api/bikelogsapi')"
   ]
  },
  {
   "cell_type": "code",
   "execution_count": 26,
   "metadata": {
    "collapsed": false
   },
   "outputs": [
    {
     "data": {
      "text/plain": [
       "<Response [200]>"
      ]
     },
     "execution_count": 26,
     "metadata": {},
     "output_type": "execute_result"
    }
   ],
   "source": [
    "bikes"
   ]
  },
  {
   "cell_type": "code",
   "execution_count": 27,
   "metadata": {
    "collapsed": false
   },
   "outputs": [
    {
     "data": {
      "text/plain": [
       "[]"
      ]
     },
     "execution_count": 27,
     "metadata": {},
     "output_type": "execute_result"
    }
   ],
   "source": [
    "bikes.json()"
   ]
  },
  {
   "cell_type": "code",
   "execution_count": null,
   "metadata": {
    "collapsed": true
   },
   "outputs": [],
   "source": []
  },
  {
   "cell_type": "code",
   "execution_count": 20,
   "metadata": {
    "collapsed": true
   },
   "outputs": [],
   "source": [
    "from tkinter import *\n",
    "import time\n",
    "import subprocess\n",
    "import re"
   ]
  },
  {
   "cell_type": "code",
   "execution_count": null,
   "metadata": {
    "collapsed": false
   },
   "outputs": [
    {
     "name": "stdout",
     "output_type": "stream",
     "text": [
      "This is Bike 2\n",
      "Checking out bike 2\n",
      "Authenticated"
     ]
    }
   ],
   "source": [
    "class Application(Frame):\n",
    "    def bike(self, bike):\n",
    "        print(\"This is Bike\", bike)\n",
    "        self.checkout = Button(self, text = \"Checkout\", command = lambda: self.checkoutbike(bike))\n",
    "        self.checkout.pack()\n",
    "        self.bike1.destroy()\n",
    "        self.bike2.destroy()\n",
    "    \n",
    "    def checkoutbike(self, bike):\n",
    "        allowed = False\n",
    "        print(\"Checking out bike\", bike)\n",
    "        self.entrythingy = Entry()\n",
    "        self.entrythingy.pack()\n",
    "        self.checkout.destroy()\n",
    "        # here is the application variable\n",
    "        self.contents = StringVar()\n",
    "        # set it to some value\n",
    "        self.contents.set(\"Scan your RFID\")\n",
    "        # tell the entry widget to watch this variable\n",
    "        self.entrythingy[\"textvariable\"] = self.contents\n",
    "\n",
    "        p = subprocess.Popen('./test.sh', stdout=subprocess.PIPE, stderr=subprocess.PIPE)\n",
    "        time.sleep(10)\n",
    "        output = str(p.stdout.readline())\n",
    "        code = re.findall('\\d+', output)[0]\n",
    "        auth = requests.get('http://gwsportal.azurewebsites.net/api/usersapi?id='+code)\n",
    "        authjson = auth.json()\n",
    "        if 'FirstName' in authjson:\n",
    "            allowed = True\n",
    "            print(\"Authenticated\")\n",
    "        else:\n",
    "            print(\"Not Authenticated\")\n",
    "            allowed = False\n",
    "        if allowed:\n",
    "            # Opens lock\n",
    "            # Puts new bike log\n",
    "            pass\n",
    "    \n",
    "    def createWidgets(self):\n",
    "        self.bike1 = Button(self, text = \"Bike 1\", command = lambda: self.bike(1))\n",
    "\n",
    "        self.bike1.pack({\"side\": \"left\"})\n",
    "        \n",
    "        self.bike2 = Button(self, text = \"Bike 2\", command = lambda: self.bike(2))\n",
    "\n",
    "        self.bike2.pack({\"side\": \"left\"})\n",
    "\n",
    "\n",
    "    def __init__(self, master=None):\n",
    "        Frame.__init__(self, master)\n",
    "        self.pack()\n",
    "        self.createWidgets()\n",
    "\n",
    "root = Tk()\n",
    "app = Application(master=root)\n",
    "app.mainloop()\n",
    "root.destroy()"
   ]
  },
  {
   "cell_type": "code",
   "execution_count": null,
   "metadata": {
    "collapsed": true
   },
   "outputs": [],
   "source": [
    "print(auth)"
   ]
  },
  {
   "cell_type": "code",
   "execution_count": 53,
   "metadata": {
    "collapsed": false
   },
   "outputs": [
    {
     "name": "stdout",
     "output_type": "stream",
     "text": [
      "Alex\n",
      "Authenticated\n"
     ]
    }
   ],
   "source": [
    "code = \"12351\"\n",
    "auth = requests.get('http://gwsportal.azurewebsites.net/api/usersapi?id='+code)\n",
    "if 'FirstName' in auth.json():\n",
    "    print(auth.json()['FirstName'])\n",
    "    allowed = True\n",
    "    print(\"Authenticated\")\n",
    "else:\n",
    "    print(\"Not Authenticated\")\n",
    "    allowed = False\n",
    "if allowed:\n",
    "    # Opens lock\n",
    "    # Puts new bike log\n",
    "    pass"
   ]
  },
  {
   "cell_type": "code",
   "execution_count": null,
   "metadata": {
    "collapsed": true
   },
   "outputs": [],
   "source": []
  }
 ],
 "metadata": {
  "kernelspec": {
   "display_name": "Python 3",
   "language": "python",
   "name": "python3"
  },
  "language_info": {
   "codemirror_mode": {
    "name": "ipython",
    "version": 3
   },
   "file_extension": ".py",
   "mimetype": "text/x-python",
   "name": "python",
   "nbconvert_exporter": "python",
   "pygments_lexer": "ipython3",
   "version": "3.4.3"
  }
 },
 "nbformat": 4,
 "nbformat_minor": 0
}
